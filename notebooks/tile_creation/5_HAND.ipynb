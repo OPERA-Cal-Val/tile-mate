{
 "cells": [
  {
   "cell_type": "code",
   "execution_count": 10,
   "id": "1e2d311e-1c23-419f-82f2-e1074c99ef7a",
   "metadata": {},
   "outputs": [],
   "source": [
    "import geopandas as gpd\n",
    "from tile_mate.tile_model import TILE_SCHEMA\n",
    "from tile_mate.stitcher import DATA_DIR\n",
    "from dem_stitcher.geojson_io import to_geojson_gzip"
   ]
  },
  {
   "cell_type": "code",
   "execution_count": 2,
   "id": "5171653e-0999-4d51-9a7f-91ee49ad3a1d",
   "metadata": {},
   "outputs": [
    {
     "data": {
      "text/html": [
       "<div>\n",
       "<style scoped>\n",
       "    .dataframe tbody tr th:only-of-type {\n",
       "        vertical-align: middle;\n",
       "    }\n",
       "\n",
       "    .dataframe tbody tr th {\n",
       "        vertical-align: top;\n",
       "    }\n",
       "\n",
       "    .dataframe thead th {\n",
       "        text-align: right;\n",
       "    }\n",
       "</style>\n",
       "<table border=\"1\" class=\"dataframe\">\n",
       "  <thead>\n",
       "    <tr style=\"text-align: right;\">\n",
       "      <th></th>\n",
       "      <th>file_path</th>\n",
       "      <th>geometry</th>\n",
       "    </tr>\n",
       "  </thead>\n",
       "  <tbody>\n",
       "    <tr>\n",
       "      <th>0</th>\n",
       "      <td>/vsicurl/https://glo-30-hand.s3-us-west-2.amaz...</td>\n",
       "      <td>POLYGON ((5.99986 1.00014, 5.99986 0.00014, 6....</td>\n",
       "    </tr>\n",
       "    <tr>\n",
       "      <th>1</th>\n",
       "      <td>/vsicurl/https://glo-30-hand.s3-us-west-2.amaz...</td>\n",
       "      <td>POLYGON ((8.99986 1.00014, 8.99986 0.00014, 9....</td>\n",
       "    </tr>\n",
       "    <tr>\n",
       "      <th>2</th>\n",
       "      <td>/vsicurl/https://glo-30-hand.s3-us-west-2.amaz...</td>\n",
       "      <td>POLYGON ((9.99986 1.00014, 9.99986 0.00014, 10...</td>\n",
       "    </tr>\n",
       "    <tr>\n",
       "      <th>3</th>\n",
       "      <td>/vsicurl/https://glo-30-hand.s3-us-west-2.amaz...</td>\n",
       "      <td>POLYGON ((10.99986 1.00014, 10.99986 0.00014, ...</td>\n",
       "    </tr>\n",
       "    <tr>\n",
       "      <th>4</th>\n",
       "      <td>/vsicurl/https://glo-30-hand.s3-us-west-2.amaz...</td>\n",
       "      <td>POLYGON ((11.99986 1.00014, 11.99986 0.00014, ...</td>\n",
       "    </tr>\n",
       "  </tbody>\n",
       "</table>\n",
       "</div>"
      ],
      "text/plain": [
       "                                           file_path  \\\n",
       "0  /vsicurl/https://glo-30-hand.s3-us-west-2.amaz...   \n",
       "1  /vsicurl/https://glo-30-hand.s3-us-west-2.amaz...   \n",
       "2  /vsicurl/https://glo-30-hand.s3-us-west-2.amaz...   \n",
       "3  /vsicurl/https://glo-30-hand.s3-us-west-2.amaz...   \n",
       "4  /vsicurl/https://glo-30-hand.s3-us-west-2.amaz...   \n",
       "\n",
       "                                            geometry  \n",
       "0  POLYGON ((5.99986 1.00014, 5.99986 0.00014, 6....  \n",
       "1  POLYGON ((8.99986 1.00014, 8.99986 0.00014, 9....  \n",
       "2  POLYGON ((9.99986 1.00014, 9.99986 0.00014, 10...  \n",
       "3  POLYGON ((10.99986 1.00014, 10.99986 0.00014, ...  \n",
       "4  POLYGON ((11.99986 1.00014, 11.99986 0.00014, ...  "
      ]
     },
     "execution_count": 2,
     "metadata": {},
     "output_type": "execute_result"
    }
   ],
   "source": [
    "df = gpd.read_file('https://glo-30-hand.s3.amazonaws.com/v1/2021/glo-30-hand.geojson')\n",
    "df.head()"
   ]
  },
  {
   "cell_type": "code",
   "execution_count": 4,
   "id": "b956f1fa-dc17-429d-b15c-9e765f09fbf3",
   "metadata": {},
   "outputs": [
    {
     "data": {
      "text/plain": [
       "'https://glo-30-hand.s3-us-west-2.amazonaws.com/v1/2021/Copernicus_DSM_COG_10_N00_00_E006_00_HAND.tif'"
      ]
     },
     "execution_count": 4,
     "metadata": {},
     "output_type": "execute_result"
    }
   ],
   "source": [
    "df_formatted.url[0]"
   ]
  },
  {
   "cell_type": "code",
   "execution_count": 6,
   "id": "e30ffc9d-3639-4d8d-9bf7-6c5351187cac",
   "metadata": {},
   "outputs": [
    {
     "data": {
      "text/html": [
       "<div>\n",
       "<style scoped>\n",
       "    .dataframe tbody tr th:only-of-type {\n",
       "        vertical-align: middle;\n",
       "    }\n",
       "\n",
       "    .dataframe tbody tr th {\n",
       "        vertical-align: top;\n",
       "    }\n",
       "\n",
       "    .dataframe thead th {\n",
       "        text-align: right;\n",
       "    }\n",
       "</style>\n",
       "<table border=\"1\" class=\"dataframe\">\n",
       "  <thead>\n",
       "    <tr style=\"text-align: right;\">\n",
       "      <th></th>\n",
       "      <th>tile_id</th>\n",
       "      <th>url</th>\n",
       "      <th>geometry</th>\n",
       "    </tr>\n",
       "  </thead>\n",
       "  <tbody>\n",
       "    <tr>\n",
       "      <th>0</th>\n",
       "      <td>N00E006</td>\n",
       "      <td>https://glo-30-hand.s3-us-west-2.amazonaws.com...</td>\n",
       "      <td>POLYGON ((5.99986 1.00014, 5.99986 0.00014, 6....</td>\n",
       "    </tr>\n",
       "    <tr>\n",
       "      <th>1</th>\n",
       "      <td>N00E009</td>\n",
       "      <td>https://glo-30-hand.s3-us-west-2.amazonaws.com...</td>\n",
       "      <td>POLYGON ((8.99986 1.00014, 8.99986 0.00014, 9....</td>\n",
       "    </tr>\n",
       "    <tr>\n",
       "      <th>2</th>\n",
       "      <td>N00E010</td>\n",
       "      <td>https://glo-30-hand.s3-us-west-2.amazonaws.com...</td>\n",
       "      <td>POLYGON ((9.99986 1.00014, 9.99986 0.00014, 10...</td>\n",
       "    </tr>\n",
       "    <tr>\n",
       "      <th>3</th>\n",
       "      <td>N00E011</td>\n",
       "      <td>https://glo-30-hand.s3-us-west-2.amazonaws.com...</td>\n",
       "      <td>POLYGON ((10.99986 1.00014, 10.99986 0.00014, ...</td>\n",
       "    </tr>\n",
       "    <tr>\n",
       "      <th>4</th>\n",
       "      <td>N00E012</td>\n",
       "      <td>https://glo-30-hand.s3-us-west-2.amazonaws.com...</td>\n",
       "      <td>POLYGON ((11.99986 1.00014, 11.99986 0.00014, ...</td>\n",
       "    </tr>\n",
       "  </tbody>\n",
       "</table>\n",
       "</div>"
      ],
      "text/plain": [
       "   tile_id                                                url  \\\n",
       "0  N00E006  https://glo-30-hand.s3-us-west-2.amazonaws.com...   \n",
       "1  N00E009  https://glo-30-hand.s3-us-west-2.amazonaws.com...   \n",
       "2  N00E010  https://glo-30-hand.s3-us-west-2.amazonaws.com...   \n",
       "3  N00E011  https://glo-30-hand.s3-us-west-2.amazonaws.com...   \n",
       "4  N00E012  https://glo-30-hand.s3-us-west-2.amazonaws.com...   \n",
       "\n",
       "                                            geometry  \n",
       "0  POLYGON ((5.99986 1.00014, 5.99986 0.00014, 6....  \n",
       "1  POLYGON ((8.99986 1.00014, 8.99986 0.00014, 9....  \n",
       "2  POLYGON ((9.99986 1.00014, 9.99986 0.00014, 10...  \n",
       "3  POLYGON ((10.99986 1.00014, 10.99986 0.00014, ...  \n",
       "4  POLYGON ((11.99986 1.00014, 11.99986 0.00014, ...  "
      ]
     },
     "execution_count": 6,
     "metadata": {},
     "output_type": "execute_result"
    }
   ],
   "source": [
    "df_formatted = df.copy()\n",
    "df_formatted['url'] = df.file_path.map(lambda path: path.replace('/vsicurl/', ''))\n",
    "\n",
    "def extract_tile_id(url: str) -> str:\n",
    "    local_name = url.split('/')[-1]\n",
    "    tokens = local_name.split('_')\n",
    "    return tokens[4] + tokens[6]\n",
    "df_formatted['tile_id'] = df_formatted['url'].map(extract_tile_id)\n",
    "df_formatted = df_formatted[['tile_id', 'url', 'geometry']]\n",
    "df_formatted.head()"
   ]
  },
  {
   "cell_type": "code",
   "execution_count": 8,
   "id": "5c03447e-c6cc-401e-b25e-d3a5338dc79c",
   "metadata": {},
   "outputs": [],
   "source": [
    "df_hand = TILE_SCHEMA.validate(df_formatted)"
   ]
  },
  {
   "cell_type": "code",
   "execution_count": 11,
   "id": "69047a72-cd48-4308-b09c-f1a34517e656",
   "metadata": {},
   "outputs": [
    {
     "data": {
      "text/plain": [
       "'/Users/cmarshak/bekaert-team/tile-mate/src/tile_mate/data/asf_hand_2021.geojson.zip'"
      ]
     },
     "execution_count": 11,
     "metadata": {},
     "output_type": "execute_result"
    }
   ],
   "source": [
    "to_geojson_gzip(df_hand, str(DATA_DIR / 'asf_hand_2021.geojson.zip'))"
   ]
  }
 ],
 "metadata": {
  "kernelspec": {
   "display_name": "tile-mate",
   "language": "python",
   "name": "tile-mate"
  },
  "language_info": {
   "codemirror_mode": {
    "name": "ipython",
    "version": 3
   },
   "file_extension": ".py",
   "mimetype": "text/x-python",
   "name": "python",
   "nbconvert_exporter": "python",
   "pygments_lexer": "ipython3",
   "version": "3.12.1"
  }
 },
 "nbformat": 4,
 "nbformat_minor": 5
}
