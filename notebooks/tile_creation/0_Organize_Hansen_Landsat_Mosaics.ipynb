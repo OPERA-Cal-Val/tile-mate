{
 "cells": [
  {
   "cell_type": "markdown",
   "id": "85c5b0e1-c6a2-46d8-ad72-b38496a9c49f",
   "metadata": {},
   "source": [
    "Source: https://data.globalforestwatch.org/documents/941f17325a494ed78c4817f9bb20f33a/explore\n",
    "\n",
    "Each year this should be updated."
   ]
  },
  {
   "cell_type": "code",
   "execution_count": 1,
   "id": "a978c2bb",
   "metadata": {
    "ExecuteTime": {
     "end_time": "2021-12-21T22:33:52.804211Z",
     "start_time": "2021-12-21T22:33:51.582048Z"
    }
   },
   "outputs": [],
   "source": [
    "import rasterio\n",
    "from rasterio.crs import CRS\n",
    "import geopandas as gpd\n",
    "from shapely.geometry import box\n",
    "from tile_mate.tile_model import TILE_SCHEMA\n",
    "from tile_mate.stitcher import DATA_DIR\n",
    "import pandera as pa\n",
    "from dem_stitcher.geojson_io import to_geojson_gzip"
   ]
  },
  {
   "cell_type": "markdown",
   "id": "f9a84b8c",
   "metadata": {},
   "source": [
    "# Generate tiles\n",
    "\n",
    "We are going to use the Hansen et al. data found [here](https://storage.googleapis.com/earthenginepartners-hansen/GFC-2020-v1.8/download.html)."
   ]
  },
  {
   "cell_type": "code",
   "execution_count": 2,
   "id": "50e0ec70",
   "metadata": {
    "ExecuteTime": {
     "end_time": "2021-12-21T22:33:52.822624Z",
     "start_time": "2021-12-21T22:33:52.809708Z"
    }
   },
   "outputs": [],
   "source": [
    "# box inputs are minx, miny, maxx, maxy\n",
    "geometries = [box(-180 + i * 10, \n",
    "                  80 - (j + 1) * 10, \n",
    "                  -180 + (i + 1) * 10,\n",
    "                  80 - (j) * 10) for i in range(36) for j in range(16)]\n",
    "\n",
    "# Upper left corner\n",
    "ul_corners = [(-180 + (i) * 10, 80 - (j) * 10) for i in range(36) for j in range(16)]\n",
    "df_hansen_tiles = gpd.GeoDataFrame(geometry=geometries, crs=CRS.from_epsg(4326))"
   ]
  },
  {
   "cell_type": "markdown",
   "id": "43aad02f",
   "metadata": {},
   "source": [
    "Let's see the tiles."
   ]
  },
  {
   "cell_type": "code",
   "execution_count": 3,
   "id": "5f607d6d",
   "metadata": {
    "ExecuteTime": {
     "end_time": "2021-12-21T22:33:52.991747Z",
     "start_time": "2021-12-21T22:33:52.825472Z"
    }
   },
   "outputs": [
    {
     "data": {
      "text/plain": [
       "<Axes: >"
      ]
     },
     "execution_count": 3,
     "metadata": {},
     "output_type": "execute_result"
    },
    {
     "data": {
      "image/png": "[encoded data removed]",
      "text/plain": [
       "<Figure size 640x480 with 1 Axes>"
      ]
     },
     "metadata": {},
     "output_type": "display_data"
    }
   ],
   "source": [
    "df_hansen_tiles.exterior.plot()"
   ]
  },
  {
   "cell_type": "code",
   "execution_count": 4,
   "id": "d36d57ad",
   "metadata": {
    "ExecuteTime": {
     "end_time": "2021-12-21T22:33:52.997063Z",
     "start_time": "2021-12-21T22:33:52.993517Z"
    }
   },
   "outputs": [],
   "source": [
    "def url_generator(corner: tuple, \n",
    "                  layer: str ='last'):\n",
    "    \n",
    "    assert(layer in ['first', 'last', 'treecover2000'])\n",
    "    \n",
    "    base_url = 'https://storage.googleapis.com/earthenginepartners-hansen/GFC-2022-v1.10'\n",
    "    lon, lat = corner\n",
    "    if lon < 0:\n",
    "        lon_str = f'{abs(lon):03d}W'\n",
    "    else:\n",
    "        lon_str = f'{abs(lon):03d}E'\n",
    "    if lat >= 0:\n",
    "        lat_str = f'{abs(lat):02d}N'\n",
    "    else:\n",
    "        lat_str = f'{abs(lat):02d}S'\n",
    "    return f'{base_url}/Hansen_GFC-2022-v1.10_last_{lat_str}_{lon_str}.tif'\n",
    "\n",
    "def tile_generator(corner: tuple):\n",
    "    \n",
    "    lon, lat = corner\n",
    "    if lon < 0:\n",
    "        lon_str = f'{abs(lon):03d}W'\n",
    "    else:\n",
    "        lon_str = f'{abs(lon):03d}E'\n",
    "    if lat >= 0:\n",
    "        lat_str = f'{abs(lat):02d}N'\n",
    "    else:\n",
    "        lat_str = f'{abs(lat):02d}S'\n",
    "    return f'{lat_str}_{lon_str}'\n"
   ]
  },
  {
   "cell_type": "code",
   "execution_count": 5,
   "id": "26f7386c",
   "metadata": {
    "ExecuteTime": {
     "end_time": "2021-12-21T22:33:53.072391Z",
     "start_time": "2021-12-21T22:33:52.998698Z"
    }
   },
   "outputs": [
    {
     "data": {
      "text/html": [
       "<div>\n",
       "<style scoped>\n",
       "    .dataframe tbody tr th:only-of-type {\n",
       "        vertical-align: middle;\n",
       "    }\n",
       "\n",
       "    .dataframe tbody tr th {\n",
       "        vertical-align: top;\n",
       "    }\n",
       "\n",
       "    .dataframe thead th {\n",
       "        text-align: right;\n",
       "    }\n",
       "</style>\n",
       "<table border=\"1\" class=\"dataframe\">\n",
       "  <thead>\n",
       "    <tr style=\"text-align: right;\">\n",
       "      <th></th>\n",
       "      <th>geometry</th>\n",
       "      <th>url</th>\n",
       "      <th>tile_id</th>\n",
       "    </tr>\n",
       "  </thead>\n",
       "  <tbody>\n",
       "    <tr>\n",
       "      <th>0</th>\n",
       "      <td>POLYGON ((-170.00000 70.00000, -170.00000 80.0...</td>\n",
       "      <td>https://storage.googleapis.com/earthenginepart...</td>\n",
       "      <td>80N_180W</td>\n",
       "    </tr>\n",
       "    <tr>\n",
       "      <th>1</th>\n",
       "      <td>POLYGON ((-170.00000 60.00000, -170.00000 70.0...</td>\n",
       "      <td>https://storage.googleapis.com/earthenginepart...</td>\n",
       "      <td>70N_180W</td>\n",
       "    </tr>\n",
       "    <tr>\n",
       "      <th>2</th>\n",
       "      <td>POLYGON ((-170.00000 50.00000, -170.00000 60.0...</td>\n",
       "      <td>https://storage.googleapis.com/earthenginepart...</td>\n",
       "      <td>60N_180W</td>\n",
       "    </tr>\n",
       "    <tr>\n",
       "      <th>3</th>\n",
       "      <td>POLYGON ((-170.00000 40.00000, -170.00000 50.0...</td>\n",
       "      <td>https://storage.googleapis.com/earthenginepart...</td>\n",
       "      <td>50N_180W</td>\n",
       "    </tr>\n",
       "    <tr>\n",
       "      <th>4</th>\n",
       "      <td>POLYGON ((-170.00000 30.00000, -170.00000 40.0...</td>\n",
       "      <td>https://storage.googleapis.com/earthenginepart...</td>\n",
       "      <td>40N_180W</td>\n",
       "    </tr>\n",
       "  </tbody>\n",
       "</table>\n",
       "</div>"
      ],
      "text/plain": [
       "                                            geometry  \\\n",
       "0  POLYGON ((-170.00000 70.00000, -170.00000 80.0...   \n",
       "1  POLYGON ((-170.00000 60.00000, -170.00000 70.0...   \n",
       "2  POLYGON ((-170.00000 50.00000, -170.00000 60.0...   \n",
       "3  POLYGON ((-170.00000 40.00000, -170.00000 50.0...   \n",
       "4  POLYGON ((-170.00000 30.00000, -170.00000 40.0...   \n",
       "\n",
       "                                                 url   tile_id  \n",
       "0  https://storage.googleapis.com/earthenginepart...  80N_180W  \n",
       "1  https://storage.googleapis.com/earthenginepart...  70N_180W  \n",
       "2  https://storage.googleapis.com/earthenginepart...  60N_180W  \n",
       "3  https://storage.googleapis.com/earthenginepart...  50N_180W  \n",
       "4  https://storage.googleapis.com/earthenginepart...  40N_180W  "
      ]
     },
     "execution_count": 5,
     "metadata": {},
     "output_type": "execute_result"
    }
   ],
   "source": [
    "df_hansen_tiles_last = df_hansen_tiles.copy()\n",
    "df_hansen_tiles_last['url'] = list(map(url_generator, ul_corners))\n",
    "#df_hansen_tiles_last['year'] = 2020\n",
    "df_hansen_tiles_last['tile_id'] = list(map(tile_generator, ul_corners))\n",
    "df_hansen_tiles_last.head()"
   ]
  },
  {
   "cell_type": "markdown",
   "id": "03ed7989",
   "metadata": {},
   "source": [
    "Let's read the bounds from the URLs and make sure they match."
   ]
  },
  {
   "cell_type": "code",
   "execution_count": 38,
   "id": "ee2d262f-4493-420f-91a6-eecdb25f4523",
   "metadata": {},
   "outputs": [
    {
     "data": {
      "text/plain": [
       "18"
      ]
     },
     "execution_count": 38,
     "metadata": {},
     "output_type": "execute_result"
    }
   ],
   "source": [
    "len('_last_00N_040W.tif')"
   ]
  },
  {
   "cell_type": "code",
   "execution_count": 35,
   "id": "c556e10f",
   "metadata": {
    "ExecuteTime": {
     "end_time": "2021-12-21T22:33:54.827901Z",
     "start_time": "2021-12-21T22:33:53.074094Z"
    }
   },
   "outputs": [
    {
     "name": "stdout",
     "output_type": "stream",
     "text": [
      "BoundingBox(left=-40.0, bottom=-10.0, right=-30.0, top=0.0)\n",
      "https://storage.googleapis.com/earthenginepartners-hansen/GFC-2022-v1.10/Hansen_GFC-2022-v1.10_last_00N_040W.tif\n",
      "(-40.0, -10.0, -30.0, 0.0)\n"
     ]
    },
    {
     "data": {
      "text/plain": [
       "True"
      ]
     },
     "execution_count": 35,
     "metadata": {},
     "output_type": "execute_result"
    }
   ],
   "source": [
    "k = 204\n",
    "url = df_hansen_tiles_last.url.tolist()[k]\n",
    "geo = df_hansen_tiles_last.geometry.tolist()[k]\n",
    "with rasterio.open(url) as ds:\n",
    "    b = ds.bounds\n",
    "    print(b)\n",
    "    print(url)\n",
    "print(geo.bounds)\n",
    "geo.contains(box(*ds.bounds).buffer(-.1))"
   ]
  },
  {
   "cell_type": "code",
   "execution_count": 36,
   "id": "62186560-baa0-4fd3-bae9-c44dd8601808",
   "metadata": {},
   "outputs": [],
   "source": [
    "df_hansen_tiles_last = TILE_SCHEMA.validate(df_hansen_tiles_last)"
   ]
  },
  {
   "cell_type": "markdown",
   "id": "1a15e6c8-8046-49a4-88e6-3e19d1b991bc",
   "metadata": {},
   "source": [
    "# Serialize"
   ]
  },
  {
   "cell_type": "code",
   "execution_count": 37,
   "id": "0e715303-eef4-40f4-9078-bd12412e4145",
   "metadata": {},
   "outputs": [
    {
     "data": {
      "text/plain": [
       "'/Users/cmarshak/bekaert-team/tile-mate/tile_mate/data/hansen_landsat_mosaic_2022.geojson.zip'"
      ]
     },
     "execution_count": 37,
     "metadata": {},
     "output_type": "execute_result"
    }
   ],
   "source": [
    "to_geojson_gzip(df_hansen_tiles_last, str(DATA_DIR / 'hansen_landsat_mosaic_2022.geojson.zip'))"
   ]
  },
  {
   "cell_type": "code",
   "execution_count": null,
   "id": "4955f531-36ec-4b46-8eed-f82517ce508c",
   "metadata": {},
   "outputs": [],
   "source": []
  }
 ],
 "metadata": {
  "kernelspec": {
   "display_name": "tile-mate",
   "language": "python",
   "name": "tile-mate"
  },
  "language_info": {
   "codemirror_mode": {
    "name": "ipython",
    "version": 3
   },
   "file_extension": ".py",
   "mimetype": "text/x-python",
   "name": "python",
   "nbconvert_exporter": "python",
   "pygments_lexer": "ipython3",
   "version": "3.12.0"
  }
 },
 "nbformat": 4,
 "nbformat_minor": 5
}
