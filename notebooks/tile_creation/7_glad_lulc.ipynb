{
 "cells": [
  {
   "cell_type": "code",
   "execution_count": 1,
   "id": "9c375285-0cd3-48bb-8f09-87462f3c8ddb",
   "metadata": {},
   "outputs": [
    {
     "name": "stderr",
     "output_type": "stream",
     "text": [
      "/var/folders/0p/d5x2m4tx5kg1246bplsvyfyh0000gq/T/ipykernel_63212/3945416830.py:1: DeprecationWarning: \n",
      "Pyarrow will become a required dependency of pandas in the next major release of pandas (pandas 3.0),\n",
      "(to allow more performant data types, such as the Arrow string type, and better interoperability with other libraries)\n",
      "but was not found to be installed on your system.\n",
      "If this would cause problems for you,\n",
      "please provide us feedback at https://github.com/pandas-dev/pandas/issues/54466\n",
      "        \n",
      "  import pandas as pd\n"
     ]
    }
   ],
   "source": [
    "import pandas as pd\n",
    "import geopandas as gpd\n",
    "from shapely.geometry import box, Polygon\n",
    "from rasterio.crs import CRS\n",
    "import requests\n",
    "import rasterio\n",
    "from rasterio.plot import show\n",
    "\n",
    "from tile_mate.tile_model import TILE_SCHEMA\n",
    "from tile_mate.stitcher import DATA_DIR\n",
    "from dem_stitcher.geojson_io import to_geojson_gzip"
   ]
  },
  {
   "cell_type": "code",
   "execution_count": 2,
   "id": "88d2d157-1f94-4803-aa51-b87b19523f0a",
   "metadata": {},
   "outputs": [],
   "source": [
    "resp = requests.get('https://storage.googleapis.com/earthenginepartners-hansen/GLCLU2000-2020/v2/2020.txt')\n",
    "resp.raise_for_status()"
   ]
  },
  {
   "cell_type": "code",
   "execution_count": 3,
   "id": "a0ab1fd8-b8af-4467-aade-0ce71830a408",
   "metadata": {},
   "outputs": [
    {
     "data": {
      "text/plain": [
       "['https://storage.googleapis.com/earthenginepartners-hansen/GLCLU2000-2020/v2/2020/00N_000E.tif',\n",
       " 'https://storage.googleapis.com/earthenginepartners-hansen/GLCLU2000-2020/v2/2020/00N_010E.tif',\n",
       " 'https://storage.googleapis.com/earthenginepartners-hansen/GLCLU2000-2020/v2/2020/00N_020E.tif',\n",
       " 'https://storage.googleapis.com/earthenginepartners-hansen/GLCLU2000-2020/v2/2020/00N_030E.tif',\n",
       " 'https://storage.googleapis.com/earthenginepartners-hansen/GLCLU2000-2020/v2/2020/00N_040E.tif',\n",
       " 'https://storage.googleapis.com/earthenginepartners-hansen/GLCLU2000-2020/v2/2020/00N_040W.tif',\n",
       " 'https://storage.googleapis.com/earthenginepartners-hansen/GLCLU2000-2020/v2/2020/00N_050W.tif',\n",
       " 'https://storage.googleapis.com/earthenginepartners-hansen/GLCLU2000-2020/v2/2020/00N_060W.tif',\n",
       " 'https://storage.googleapis.com/earthenginepartners-hansen/GLCLU2000-2020/v2/2020/00N_070W.tif',\n",
       " 'https://storage.googleapis.com/earthenginepartners-hansen/GLCLU2000-2020/v2/2020/00N_080W.tif']"
      ]
     },
     "execution_count": 3,
     "metadata": {},
     "output_type": "execute_result"
    }
   ],
   "source": [
    "urls = resp.text.split('\\n')\n",
    "urls = list(filter(lambda url: url, urls)) # to ensure nonempty\n",
    "urls[:10]"
   ]
  },
  {
   "cell_type": "code",
   "execution_count": 4,
   "id": "6936b111-df1b-430c-be62-5b283bd82708",
   "metadata": {},
   "outputs": [
    {
     "data": {
      "text/plain": [
       "{'driver': 'GTiff', 'dtype': 'uint8', 'nodata': None, 'width': 40000, 'height': 40000, 'count': 1, 'crs': CRS.from_epsg(4326), 'transform': Affine(0.00025, 0.0, 0.0,\n",
       "       0.0, -0.00025, 0.0), 'blockysize': 1, 'tiled': False, 'compress': 'lzw', 'interleave': 'band'}"
      ]
     },
     "execution_count": 4,
     "metadata": {},
     "output_type": "execute_result"
    }
   ],
   "source": [
    "with rasterio.open(urls[0]) as ds:\n",
    "    # X = ds.read(1)\n",
    "    p = ds.profile\n",
    "p"
   ]
  },
  {
   "cell_type": "code",
   "execution_count": 5,
   "id": "f8a00df4-aa38-48de-bec6-32519009b777",
   "metadata": {},
   "outputs": [],
   "source": [
    "# show(X, cmap='tab20c', transform=p['transform'])"
   ]
  },
  {
   "cell_type": "code",
   "execution_count": 6,
   "id": "69720e50-2e8a-455c-bfcd-5b8306d6aaa0",
   "metadata": {},
   "outputs": [],
   "source": [
    "def get_tile_id(url: str) -> str:\n",
    "    return url.split('/')[-1].replace('.tif', '')\n",
    "    \n",
    "def generate_geo(url: str) -> Polygon:\n",
    "    tile_id = get_tile_id(url)\n",
    "    lat_str, lon_str = tile_id.split('_')\n",
    "    \n",
    "    lon_sgn = -1 if lon_str[-1] == 'W' else 1\n",
    "    lat_sgn = -1 if lat_str[-1] == 'S' else 1\n",
    "    \n",
    "    lon = lon_sgn * int(lon_str[:-1])\n",
    "    lat = lat_sgn * int(lat_str[:-1])\n",
    "    return box(lon, lat - 10, lon + 10, lat)\n",
    "\n"
   ]
  },
  {
   "cell_type": "code",
   "execution_count": 22,
   "id": "5da09e08-c6f6-495f-84e3-86e00e5e9f02",
   "metadata": {},
   "outputs": [
    {
     "data": {
      "text/plain": [
       "'https://storage.googleapis.com/earthenginepartners-hansen/GLCLU2000-2020/v2/2000/00N_000E.tif'"
      ]
     },
     "execution_count": 22,
     "metadata": {},
     "output_type": "execute_result"
    }
   ],
   "source": [
    "urls[0][:76] + '2000' + urls[0][80:]"
   ]
  },
  {
   "cell_type": "code",
   "execution_count": 8,
   "id": "996645a1-b28c-4934-8b9e-9f1446fc492b",
   "metadata": {},
   "outputs": [],
   "source": [
    "geometry = [generate_geo(url) for url in urls]\n",
    "tile_id = [get_tile_id(url) for url in urls]"
   ]
  },
  {
   "cell_type": "code",
   "execution_count": 9,
   "id": "9602cc8c-9d5e-45d3-825b-6569ea050be5",
   "metadata": {},
   "outputs": [
    {
     "data": {
      "text/html": [
       "<div>\n",
       "<style scoped>\n",
       "    .dataframe tbody tr th:only-of-type {\n",
       "        vertical-align: middle;\n",
       "    }\n",
       "\n",
       "    .dataframe tbody tr th {\n",
       "        vertical-align: top;\n",
       "    }\n",
       "\n",
       "    .dataframe thead th {\n",
       "        text-align: right;\n",
       "    }\n",
       "</style>\n",
       "<table border=\"1\" class=\"dataframe\">\n",
       "  <thead>\n",
       "    <tr style=\"text-align: right;\">\n",
       "      <th></th>\n",
       "      <th>tile_id</th>\n",
       "      <th>url</th>\n",
       "      <th>geometry</th>\n",
       "    </tr>\n",
       "  </thead>\n",
       "  <tbody>\n",
       "    <tr>\n",
       "      <th>0</th>\n",
       "      <td>00N_000E</td>\n",
       "      <td>https://storage.googleapis.com/earthenginepart...</td>\n",
       "      <td>POLYGON ((10.00000 -10.00000, 10.00000 0.00000...</td>\n",
       "    </tr>\n",
       "    <tr>\n",
       "      <th>1</th>\n",
       "      <td>00N_010E</td>\n",
       "      <td>https://storage.googleapis.com/earthenginepart...</td>\n",
       "      <td>POLYGON ((20.00000 -10.00000, 20.00000 0.00000...</td>\n",
       "    </tr>\n",
       "    <tr>\n",
       "      <th>2</th>\n",
       "      <td>00N_020E</td>\n",
       "      <td>https://storage.googleapis.com/earthenginepart...</td>\n",
       "      <td>POLYGON ((30.00000 -10.00000, 30.00000 0.00000...</td>\n",
       "    </tr>\n",
       "    <tr>\n",
       "      <th>3</th>\n",
       "      <td>00N_030E</td>\n",
       "      <td>https://storage.googleapis.com/earthenginepart...</td>\n",
       "      <td>POLYGON ((40.00000 -10.00000, 40.00000 0.00000...</td>\n",
       "    </tr>\n",
       "    <tr>\n",
       "      <th>4</th>\n",
       "      <td>00N_040E</td>\n",
       "      <td>https://storage.googleapis.com/earthenginepart...</td>\n",
       "      <td>POLYGON ((50.00000 -10.00000, 50.00000 0.00000...</td>\n",
       "    </tr>\n",
       "    <tr>\n",
       "      <th>5</th>\n",
       "      <td>00N_040W</td>\n",
       "      <td>https://storage.googleapis.com/earthenginepart...</td>\n",
       "      <td>POLYGON ((-30.00000 -10.00000, -30.00000 0.000...</td>\n",
       "    </tr>\n",
       "    <tr>\n",
       "      <th>6</th>\n",
       "      <td>00N_050W</td>\n",
       "      <td>https://storage.googleapis.com/earthenginepart...</td>\n",
       "      <td>POLYGON ((-40.00000 -10.00000, -40.00000 0.000...</td>\n",
       "    </tr>\n",
       "    <tr>\n",
       "      <th>7</th>\n",
       "      <td>00N_060W</td>\n",
       "      <td>https://storage.googleapis.com/earthenginepart...</td>\n",
       "      <td>POLYGON ((-50.00000 -10.00000, -50.00000 0.000...</td>\n",
       "    </tr>\n",
       "    <tr>\n",
       "      <th>8</th>\n",
       "      <td>00N_070W</td>\n",
       "      <td>https://storage.googleapis.com/earthenginepart...</td>\n",
       "      <td>POLYGON ((-60.00000 -10.00000, -60.00000 0.000...</td>\n",
       "    </tr>\n",
       "    <tr>\n",
       "      <th>9</th>\n",
       "      <td>00N_080W</td>\n",
       "      <td>https://storage.googleapis.com/earthenginepart...</td>\n",
       "      <td>POLYGON ((-70.00000 -10.00000, -70.00000 0.000...</td>\n",
       "    </tr>\n",
       "  </tbody>\n",
       "</table>\n",
       "</div>"
      ],
      "text/plain": [
       "    tile_id                                                url  \\\n",
       "0  00N_000E  https://storage.googleapis.com/earthenginepart...   \n",
       "1  00N_010E  https://storage.googleapis.com/earthenginepart...   \n",
       "2  00N_020E  https://storage.googleapis.com/earthenginepart...   \n",
       "3  00N_030E  https://storage.googleapis.com/earthenginepart...   \n",
       "4  00N_040E  https://storage.googleapis.com/earthenginepart...   \n",
       "5  00N_040W  https://storage.googleapis.com/earthenginepart...   \n",
       "6  00N_050W  https://storage.googleapis.com/earthenginepart...   \n",
       "7  00N_060W  https://storage.googleapis.com/earthenginepart...   \n",
       "8  00N_070W  https://storage.googleapis.com/earthenginepart...   \n",
       "9  00N_080W  https://storage.googleapis.com/earthenginepart...   \n",
       "\n",
       "                                            geometry  \n",
       "0  POLYGON ((10.00000 -10.00000, 10.00000 0.00000...  \n",
       "1  POLYGON ((20.00000 -10.00000, 20.00000 0.00000...  \n",
       "2  POLYGON ((30.00000 -10.00000, 30.00000 0.00000...  \n",
       "3  POLYGON ((40.00000 -10.00000, 40.00000 0.00000...  \n",
       "4  POLYGON ((50.00000 -10.00000, 50.00000 0.00000...  \n",
       "5  POLYGON ((-30.00000 -10.00000, -30.00000 0.000...  \n",
       "6  POLYGON ((-40.00000 -10.00000, -40.00000 0.000...  \n",
       "7  POLYGON ((-50.00000 -10.00000, -50.00000 0.000...  \n",
       "8  POLYGON ((-60.00000 -10.00000, -60.00000 0.000...  \n",
       "9  POLYGON ((-70.00000 -10.00000, -70.00000 0.000...  "
      ]
     },
     "execution_count": 9,
     "metadata": {},
     "output_type": "execute_result"
    }
   ],
   "source": [
    "df_lcluc_2020 = gpd.GeoDataFrame({'tile_id': tile_id,\n",
    "                                  'url': urls},\n",
    "                                 geometry=geometry,\n",
    "                                 crs=CRS.from_epsg(4326))\n",
    "df_lcluc_2020.head(10)"
   ]
  },
  {
   "cell_type": "code",
   "execution_count": 10,
   "id": "b39f67bd-3b48-40a3-b303-510d3579a783",
   "metadata": {},
   "outputs": [
    {
     "data": {
      "text/plain": [
       "<Axes: >"
      ]
     },
     "execution_count": 10,
     "metadata": {},
     "output_type": "execute_result"
    },
    {
     "data": {
      "image/png": "[encoded data removed]",
      "text/plain": [
       "<Figure size 640x480 with 1 Axes>"
      ]
     },
     "metadata": {},
     "output_type": "display_data"
    }
   ],
   "source": [
    "df_lcluc_2020.exterior.plot()"
   ]
  },
  {
   "cell_type": "code",
   "execution_count": 11,
   "id": "47867862-2ccd-4ca8-8add-c677b7b1e430",
   "metadata": {},
   "outputs": [],
   "source": [
    "df_lcluc_2020 = TILE_SCHEMA.validate(df_lcluc_2020)"
   ]
  },
  {
   "cell_type": "code",
   "execution_count": 12,
   "id": "11d3643e-31b1-4023-a285-5698e455085a",
   "metadata": {},
   "outputs": [
    {
     "data": {
      "text/plain": [
       "'/Users/cmarshak/bekaert-team/tile-mate/src/tile_mate/data/glad_landcover_2020.geojson.zip'"
      ]
     },
     "execution_count": 12,
     "metadata": {},
     "output_type": "execute_result"
    }
   ],
   "source": [
    "to_geojson_gzip(df_lcluc_2020, str(DATA_DIR / 'glad_landcover_2020.geojson.zip'))"
   ]
  }
 ],
 "metadata": {
  "kernelspec": {
   "display_name": "tile-mate",
   "language": "python",
   "name": "tile-mate"
  },
  "language_info": {
   "codemirror_mode": {
    "name": "ipython",
    "version": 3
   },
   "file_extension": ".py",
   "mimetype": "text/x-python",
   "name": "python",
   "nbconvert_exporter": "python",
   "pygments_lexer": "ipython3",
   "version": "3.12.1"
  }
 },
 "nbformat": 4,
 "nbformat_minor": 5
}
