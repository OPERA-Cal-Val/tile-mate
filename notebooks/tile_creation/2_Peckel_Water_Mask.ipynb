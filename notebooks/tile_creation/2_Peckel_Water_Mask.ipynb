{
 "cells": [
  {
   "cell_type": "markdown",
   "id": "4cb1c480-4782-4b4d-a55f-3112f2cd2d0b",
   "metadata": {},
   "source": [
    "Source: https://global-surface-water.appspot.com/download"
   ]
  },
  {
   "cell_type": "code",
   "execution_count": 1,
   "id": "recorded-sense",
   "metadata": {
    "ExecuteTime": {
     "end_time": "2022-07-11T17:48:45.006150Z",
     "start_time": "2022-07-11T17:48:43.531091Z"
    }
   },
   "outputs": [],
   "source": [
    "from rasterio.crs import CRS\n",
    "import geopandas as gpd\n",
    "from shapely.geometry import box\n",
    "import matplotlib.pyplot as plt\n",
    "from dem_stitcher.geojson_io import to_geojson_gzip\n",
    "from tile_mate.tile_model import TILE_SCHEMA\n",
    "from tile_mate.stitcher import DATA_DIR\n",
    "import rasterio"
   ]
  },
  {
   "cell_type": "markdown",
   "id": "norman-essex",
   "metadata": {},
   "source": [
    "# Generate Tiles"
   ]
  },
  {
   "cell_type": "code",
   "execution_count": 2,
   "id": "assisted-denial",
   "metadata": {
    "ExecuteTime": {
     "end_time": "2022-07-11T17:48:45.029794Z",
     "start_time": "2022-07-11T17:48:45.008547Z"
    }
   },
   "outputs": [],
   "source": [
    "# box inputs are minx, miny, maxx, maxy\n",
    "geometries = [box(-180 + i * 10, \n",
    "                  80 - (j + 1) * 10, \n",
    "                  -180 + (i + 1) * 10,\n",
    "                  80 - (j) * 10) for i in range(36) for j in range(14)]\n",
    "\n",
    "# Upper left corner\n",
    "ul_corners = [(-180 + (i) * 10, 80 - (j) * 10) for i in range(36) for j in range(14)]\n",
    "# data\n",
    "df_pekel_data = gpd.GeoDataFrame(geometry=geometries, crs=CRS.from_epsg(4326))"
   ]
  },
  {
   "cell_type": "code",
   "execution_count": 3,
   "id": "north-exploration",
   "metadata": {
    "ExecuteTime": {
     "end_time": "2022-07-11T17:51:10.972764Z",
     "start_time": "2022-07-11T17:51:10.817133Z"
    }
   },
   "outputs": [
    {
     "data": {
      "text/plain": [
       "<Axes: >"
      ]
     },
     "execution_count": 3,
     "metadata": {},
     "output_type": "execute_result"
    },
    {
     "data": {
      "image/png": "[encoded data removed]",
      "text/plain": [
       "<Figure size 640x480 with 1 Axes>"
      ]
     },
     "metadata": {},
     "output_type": "display_data"
    }
   ],
   "source": [
    "def url_generator(corner: tuple, \n",
    "                  layer: str ='last'):\n",
    "    \n",
    "    assert(layer in ['first', 'last', 'treecover2000'])\n",
    "    \n",
    "    base_url = 'https://storage.googleapis.com/global-surface-water/downloads2021/occurrence'\n",
    "    lon, lat = corner\n",
    "    if lon < 0:\n",
    "        lon_str = f'{abs(lon):d}W'\n",
    "    else:\n",
    "        lon_str = f'{abs(lon):d}E'\n",
    "    if lat >= 0:\n",
    "        lat_str = f'{abs(lat):d}N'\n",
    "    else:\n",
    "        lat_str = f'{abs(lat):d}S'\n",
    "    return f'{base_url}/occurrence_{lon_str}_{lat_str}v1_4_2021.tif'\n",
    "\n",
    "def tile_id_gen(corner: tuple[int]) -> str:\n",
    "    lon, lat = corner\n",
    "    if lon < 0:\n",
    "        lon_str = f'{abs(lon):d}W'\n",
    "    else:\n",
    "        lon_str = f'{abs(lon):d}E'\n",
    "    if lat >= 0:\n",
    "        lat_str = f'{abs(lat):d}N'\n",
    "    else:\n",
    "        lat_str = f'{abs(lat):d}S'\n",
    "    return f'{lon_str}_{lat_str}'\n",
    "\n",
    "df_pekel_data['tile_id'] = list(map(tile_id_gen, ul_corners))\n",
    "df_pekel_data['url'] = list(map(url_generator, ul_corners))\n",
    "df_pekel_data.boundary.plot()"
   ]
  },
  {
   "cell_type": "code",
   "execution_count": 4,
   "id": "2698f15f-0f49-4841-b755-f7d32f2ec992",
   "metadata": {},
   "outputs": [
    {
     "data": {
      "text/html": [
       "<div>\n",
       "<style scoped>\n",
       "    .dataframe tbody tr th:only-of-type {\n",
       "        vertical-align: middle;\n",
       "    }\n",
       "\n",
       "    .dataframe tbody tr th {\n",
       "        vertical-align: top;\n",
       "    }\n",
       "\n",
       "    .dataframe thead th {\n",
       "        text-align: right;\n",
       "    }\n",
       "</style>\n",
       "<table border=\"1\" class=\"dataframe\">\n",
       "  <thead>\n",
       "    <tr style=\"text-align: right;\">\n",
       "      <th></th>\n",
       "      <th>geometry</th>\n",
       "      <th>tile_id</th>\n",
       "      <th>url</th>\n",
       "    </tr>\n",
       "  </thead>\n",
       "  <tbody>\n",
       "    <tr>\n",
       "      <th>0</th>\n",
       "      <td>POLYGON ((-170.00000 70.00000, -170.00000 80.0...</td>\n",
       "      <td>180W_80N</td>\n",
       "      <td>https://storage.googleapis.com/global-surface-...</td>\n",
       "    </tr>\n",
       "    <tr>\n",
       "      <th>1</th>\n",
       "      <td>POLYGON ((-170.00000 60.00000, -170.00000 70.0...</td>\n",
       "      <td>180W_70N</td>\n",
       "      <td>https://storage.googleapis.com/global-surface-...</td>\n",
       "    </tr>\n",
       "    <tr>\n",
       "      <th>2</th>\n",
       "      <td>POLYGON ((-170.00000 50.00000, -170.00000 60.0...</td>\n",
       "      <td>180W_60N</td>\n",
       "      <td>https://storage.googleapis.com/global-surface-...</td>\n",
       "    </tr>\n",
       "    <tr>\n",
       "      <th>3</th>\n",
       "      <td>POLYGON ((-170.00000 40.00000, -170.00000 50.0...</td>\n",
       "      <td>180W_50N</td>\n",
       "      <td>https://storage.googleapis.com/global-surface-...</td>\n",
       "    </tr>\n",
       "    <tr>\n",
       "      <th>4</th>\n",
       "      <td>POLYGON ((-170.00000 30.00000, -170.00000 40.0...</td>\n",
       "      <td>180W_40N</td>\n",
       "      <td>https://storage.googleapis.com/global-surface-...</td>\n",
       "    </tr>\n",
       "  </tbody>\n",
       "</table>\n",
       "</div>"
      ],
      "text/plain": [
       "                                            geometry   tile_id  \\\n",
       "0  POLYGON ((-170.00000 70.00000, -170.00000 80.0...  180W_80N   \n",
       "1  POLYGON ((-170.00000 60.00000, -170.00000 70.0...  180W_70N   \n",
       "2  POLYGON ((-170.00000 50.00000, -170.00000 60.0...  180W_60N   \n",
       "3  POLYGON ((-170.00000 40.00000, -170.00000 50.0...  180W_50N   \n",
       "4  POLYGON ((-170.00000 30.00000, -170.00000 40.0...  180W_40N   \n",
       "\n",
       "                                                 url  \n",
       "0  https://storage.googleapis.com/global-surface-...  \n",
       "1  https://storage.googleapis.com/global-surface-...  \n",
       "2  https://storage.googleapis.com/global-surface-...  \n",
       "3  https://storage.googleapis.com/global-surface-...  \n",
       "4  https://storage.googleapis.com/global-surface-...  "
      ]
     },
     "execution_count": 4,
     "metadata": {},
     "output_type": "execute_result"
    }
   ],
   "source": [
    "df_pekel_data.head()"
   ]
  },
  {
   "cell_type": "code",
   "execution_count": 5,
   "id": "voluntary-affair",
   "metadata": {
    "ExecuteTime": {
     "end_time": "2022-07-11T17:51:11.596326Z",
     "start_time": "2022-07-11T17:51:11.593146Z"
    }
   },
   "outputs": [
    {
     "name": "stdout",
     "output_type": "stream",
     "text": [
      "https://storage.googleapis.com/global-surface-water/downloads2021/occurrence/occurrence_180W_80Nv1_4_2021.tif\n"
     ]
    }
   ],
   "source": [
    "sample_url = df_pekel_data.url[0]\n",
    "print(sample_url)"
   ]
  },
  {
   "cell_type": "code",
   "execution_count": 6,
   "id": "beautiful-blood",
   "metadata": {
    "ExecuteTime": {
     "end_time": "2022-07-06T00:23:16.418728Z",
     "start_time": "2022-07-06T00:23:15.421031Z"
    }
   },
   "outputs": [
    {
     "data": {
      "text/plain": [
       "{'driver': 'GTiff', 'dtype': 'uint8', 'nodata': None, 'width': 40000, 'height': 40000, 'count': 1, 'crs': CRS.from_epsg(4326), 'transform': Affine(0.00025, 0.0, -180.0,\n",
       "       0.0, -0.00025, 80.0), 'blockxsize': 256, 'blockysize': 256, 'tiled': True, 'compress': 'lzw', 'interleave': 'band'}"
      ]
     },
     "execution_count": 6,
     "metadata": {},
     "output_type": "execute_result"
    }
   ],
   "source": [
    "with rasterio.open(sample_url) as ds:\n",
    "    p = ds.profile\n",
    "p"
   ]
  },
  {
   "cell_type": "code",
   "execution_count": 7,
   "id": "2adbb475-1a68-4291-bbb0-938a73eea698",
   "metadata": {},
   "outputs": [],
   "source": [
    "df_pekel_data = TILE_SCHEMA.validate(df_pekel_data)"
   ]
  },
  {
   "cell_type": "markdown",
   "id": "43d81387-3eb7-47ca-bbd5-7de626c395e4",
   "metadata": {},
   "source": [
    "# Serialize"
   ]
  },
  {
   "cell_type": "code",
   "execution_count": 8,
   "id": "fad5fd84-361f-4c41-a852-71f1c4182fb4",
   "metadata": {},
   "outputs": [
    {
     "data": {
      "text/plain": [
       "'/Users/cmarshak/bekaert-team/tile-mate/tile_mate/data/pekel_water_occurrence_2021.geojson.zip'"
      ]
     },
     "execution_count": 8,
     "metadata": {},
     "output_type": "execute_result"
    }
   ],
   "source": [
    "to_geojson_gzip(df_pekel_data, str(DATA_DIR / 'pekel_water_occurrence_2021.geojson.zip'))"
   ]
  }
 ],
 "metadata": {
  "kernelspec": {
   "display_name": "tile-mate",
   "language": "python",
   "name": "tile-mate"
  },
  "language_info": {
   "codemirror_mode": {
    "name": "ipython",
    "version": 3
   },
   "file_extension": ".py",
   "mimetype": "text/x-python",
   "name": "python",
   "nbconvert_exporter": "python",
   "pygments_lexer": "ipython3",
   "version": "3.12.0"
  }
 },
 "nbformat": 4,
 "nbformat_minor": 5
}
