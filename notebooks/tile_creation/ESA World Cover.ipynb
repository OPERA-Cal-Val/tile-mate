{
 "cells": [
  {
   "cell_type": "markdown",
   "id": "41cf0314-b8d8-4b2c-8bd5-82f692a2174d",
   "metadata": {},
   "source": [
    "Source: https://esa-worldcover.org/en/data-access (see AWS section). Wasn't able to find grid for 2021 so copied the grid from 2020 and made necessary adjustments.\n",
    "\n",
    "Must have `tile-stitcher` installed in editable mode. Also, uses `dem_stitcher` for serialization (available via conda-forge)"
   ]
  },
  {
   "cell_type": "code",
   "execution_count": 1,
   "id": "e23fe4d5-f83c-4a1b-b09e-39c93c68926c",
   "metadata": {},
   "outputs": [],
   "source": [
    "import geopandas as gpd\n",
    "from tile_stitcher.tile_model import TILE_SCHEMA\n",
    "from tile_stitcher.sticher import DATA_DIR\n",
    "import pandera as pa\n",
    "from dem_stitcher.geojson_io import to_geojson_gzip"
   ]
  },
  {
   "cell_type": "code",
   "execution_count": 2,
   "id": "afb7938d-bc85-45da-a096-746323cf086e",
   "metadata": {},
   "outputs": [],
   "source": [
    "s3_url_prefix = \"https://esa-worldcover.s3.eu-central-1.amazonaws.com\"\n",
    "\n",
    "# load worldcover grid\n",
    "url_2020 = f'{s3_url_prefix}/v100/2020/esa_worldcover_2020_grid.geojson'\n",
    "df_wc_tiles_2020_src = gpd.read_file(url_2020)"
   ]
  },
  {
   "cell_type": "code",
   "execution_count": 3,
   "id": "aac8094a-4f4a-4be6-bb30-944e33a0a4a9",
   "metadata": {},
   "outputs": [
    {
     "data": {
      "text/html": [
       "<div>\n",
       "<style scoped>\n",
       "    .dataframe tbody tr th:only-of-type {\n",
       "        vertical-align: middle;\n",
       "    }\n",
       "\n",
       "    .dataframe tbody tr th {\n",
       "        vertical-align: top;\n",
       "    }\n",
       "\n",
       "    .dataframe thead th {\n",
       "        text-align: right;\n",
       "    }\n",
       "</style>\n",
       "<table border=\"1\" class=\"dataframe\">\n",
       "  <thead>\n",
       "    <tr style=\"text-align: right;\">\n",
       "      <th></th>\n",
       "      <th>tile_id</th>\n",
       "      <th>url</th>\n",
       "      <th>geometry</th>\n",
       "    </tr>\n",
       "  </thead>\n",
       "  <tbody>\n",
       "    <tr>\n",
       "      <th>0</th>\n",
       "      <td>S54E168</td>\n",
       "      <td>https://esa-worldcover.s3.eu-central-1.amazona...</td>\n",
       "      <td>POLYGON ((168.80786 -52.75980, 168.79761 -52.7...</td>\n",
       "    </tr>\n",
       "    <tr>\n",
       "      <th>1</th>\n",
       "      <td>S54E165</td>\n",
       "      <td>https://esa-worldcover.s3.eu-central-1.amazona...</td>\n",
       "      <td>POLYGON ((166.50177 -51.00000, 166.46563 -51.0...</td>\n",
       "    </tr>\n",
       "    <tr>\n",
       "      <th>2</th>\n",
       "      <td>S57E159</td>\n",
       "      <td>https://esa-worldcover.s3.eu-central-1.amazona...</td>\n",
       "      <td>POLYGON ((159.00000 -54.17474, 159.05881 -54.1...</td>\n",
       "    </tr>\n",
       "    <tr>\n",
       "      <th>3</th>\n",
       "      <td>S57E156</td>\n",
       "      <td>https://esa-worldcover.s3.eu-central-1.amazona...</td>\n",
       "      <td>POLYGON ((159.00000 -55.01738, 158.96296 -55.0...</td>\n",
       "    </tr>\n",
       "    <tr>\n",
       "      <th>4</th>\n",
       "      <td>S45E144</td>\n",
       "      <td>https://esa-worldcover.s3.eu-central-1.amazona...</td>\n",
       "      <td>POLYGON ((147.00000 -42.00000, 147.00000 -43.9...</td>\n",
       "    </tr>\n",
       "  </tbody>\n",
       "</table>\n",
       "</div>"
      ],
      "text/plain": [
       "   tile_id                                                url  \\\n",
       "0  S54E168  https://esa-worldcover.s3.eu-central-1.amazona...   \n",
       "1  S54E165  https://esa-worldcover.s3.eu-central-1.amazona...   \n",
       "2  S57E159  https://esa-worldcover.s3.eu-central-1.amazona...   \n",
       "3  S57E156  https://esa-worldcover.s3.eu-central-1.amazona...   \n",
       "4  S45E144  https://esa-worldcover.s3.eu-central-1.amazona...   \n",
       "\n",
       "                                            geometry  \n",
       "0  POLYGON ((168.80786 -52.75980, 168.79761 -52.7...  \n",
       "1  POLYGON ((166.50177 -51.00000, 166.46563 -51.0...  \n",
       "2  POLYGON ((159.00000 -54.17474, 159.05881 -54.1...  \n",
       "3  POLYGON ((159.00000 -55.01738, 158.96296 -55.0...  \n",
       "4  POLYGON ((147.00000 -42.00000, 147.00000 -43.9...  "
      ]
     },
     "execution_count": 3,
     "metadata": {},
     "output_type": "execute_result"
    }
   ],
   "source": [
    "def url_gen(tile_id):\n",
    "    url = f\"{s3_url_prefix}/v100/2020/map/ESA_WorldCover_10m_2020_v100_{tile_id}_Map.tif\"\n",
    "    return url\n",
    "\n",
    "df_wc_tiles_2020 = df_wc_tiles_2020_src.copy()\n",
    "df_wc_tiles_2020['url'] = df_wc_tiles_2020.ll_tile.map(url_gen)\n",
    "df_wc_tiles_2020.rename(columns={'ll_tile': 'tile_id'}, inplace=True)\n",
    "df_wc_tiles_2020 = df_wc_tiles_2020[['tile_id', 'url', 'geometry']]\n",
    "df_wc_tiles_2020.head()"
   ]
  },
  {
   "cell_type": "code",
   "execution_count": 4,
   "id": "e65cf21c-3e5d-4208-ae0d-447e3cd85307",
   "metadata": {},
   "outputs": [],
   "source": [
    "df_wc_tiles_2020 = TILE_SCHEMA.validate(df_wc_tiles_2020)"
   ]
  },
  {
   "cell_type": "code",
   "execution_count": 5,
   "id": "3ecd8123-1ddc-4c12-b9a4-9da952b7c5bb",
   "metadata": {},
   "outputs": [
    {
     "data": {
      "text/plain": [
       "'https://esa-worldcover.s3.eu-central-1.amazonaws.com/v100/2020/map/ESA_WorldCover_10m_2020_v100_S54E168_Map.tif'"
      ]
     },
     "execution_count": 5,
     "metadata": {},
     "output_type": "execute_result"
    }
   ],
   "source": [
    "df_wc_tiles_2020.url[0]"
   ]
  },
  {
   "cell_type": "code",
   "execution_count": 6,
   "id": "46081de9-0a03-4be7-b8b1-64e3608ab115",
   "metadata": {},
   "outputs": [
    {
     "data": {
      "text/plain": [
       "'https://esa-worldcover.s3.eu-central-1.amazonaws.com/v200/2021/map/ESA_WorldCover_10m_2021_v200_S54E168_Map.tif'"
      ]
     },
     "execution_count": 6,
     "metadata": {},
     "output_type": "execute_result"
    }
   ],
   "source": [
    "df_wc_tiles_2021 = df_wc_tiles_2020.copy()\n",
    "df_wc_tiles_2021['url'] = df_wc_tiles_2021.url.map(lambda url: url.replace('v100', 'v200').replace('2020', '2021'))\n",
    "df_wc_tiles_2021.url[0]"
   ]
  },
  {
   "cell_type": "markdown",
   "id": "49c91c85-f4cc-4409-8e7e-da322c09dc2c",
   "metadata": {},
   "source": [
    "# Serialize"
   ]
  },
  {
   "cell_type": "code",
   "execution_count": null,
   "id": "5e3db1b1-c628-4a97-a747-b595c6206487",
   "metadata": {},
   "outputs": [],
   "source": [
    "df_wc_tiles_2020.to_file("
   ]
  },
  {
   "cell_type": "code",
   "execution_count": 25,
   "id": "652733c8-abbd-4d21-b8a7-fec106d3ddd8",
   "metadata": {},
   "outputs": [],
   "source": [
    "p1 = (DATA_DIR / 'esa_world_cover_2021.geojson.zip').resolve()"
   ]
  },
  {
   "cell_type": "code",
   "execution_count": 26,
   "id": "32b08771-01a4-429f-a376-14c2c4bd4c27",
   "metadata": {},
   "outputs": [
    {
     "data": {
      "text/plain": [
       "PosixPath('/Users/cmarshak/bekaert-team/tile-stitcher/tile_stitcher/data/esa_world_cover_2021.geojson.zip')"
      ]
     },
     "execution_count": 26,
     "metadata": {},
     "output_type": "execute_result"
    }
   ],
   "source": [
    "p2 = Path('/Users/cmarshak/bekaert-team/tile-stitcher/tile_stitcher/data/esa_world_cover_2021.geojson.zip')\n",
    "p2"
   ]
  },
  {
   "cell_type": "code",
   "execution_count": 35,
   "id": "f92f5385-7e52-4990-98d8-2c7ae779964f",
   "metadata": {},
   "outputs": [
    {
     "data": {
      "text/plain": [
       "False"
      ]
     },
     "execution_count": 35,
     "metadata": {},
     "output_type": "execute_result"
    }
   ],
   "source": [
    "p1.exists()"
   ]
  },
  {
   "cell_type": "code",
   "execution_count": 36,
   "id": "2bb8eda4-7de5-415a-beae-8500d140757f",
   "metadata": {},
   "outputs": [
    {
     "ename": "DriverError",
     "evalue": "'/vsizip//Users/cmarshak/bekaert-team/tile-stitcher/tile_stitcher/data/esa_world_cover_2021.geojson.zip' does not exist in the file system, and is not recognized as a supported dataset name.",
     "output_type": "error",
     "traceback": [
      "\u001b[0;31m---------------------------------------------------------------------------\u001b[0m",
      "\u001b[0;31mCPLE_OpenFailedError\u001b[0m                      Traceback (most recent call last)",
      "File \u001b[0;32mfiona/ogrext.pyx:136\u001b[0m, in \u001b[0;36mfiona.ogrext.gdal_open_vector\u001b[0;34m()\u001b[0m\n",
      "File \u001b[0;32mfiona/_err.pyx:291\u001b[0m, in \u001b[0;36mfiona._err.exc_wrap_pointer\u001b[0;34m()\u001b[0m\n",
      "\u001b[0;31mCPLE_OpenFailedError\u001b[0m: '/vsizip//Users/cmarshak/bekaert-team/tile-stitcher/tile_stitcher/data/esa_world_cover_2021.geojson.zip' does not exist in the file system, and is not recognized as a supported dataset name.",
      "\nDuring handling of the above exception, another exception occurred:\n",
      "\u001b[0;31mDriverError\u001b[0m                               Traceback (most recent call last)",
      "Cell \u001b[0;32mIn[36], line 1\u001b[0m\n\u001b[0;32m----> 1\u001b[0m df \u001b[38;5;241m=\u001b[39m \u001b[43mgpd\u001b[49m\u001b[38;5;241;43m.\u001b[39;49m\u001b[43mread_file\u001b[49m\u001b[43m(\u001b[49m\u001b[43mp1\u001b[49m\u001b[43m)\u001b[49m\n",
      "File \u001b[0;32m~/mambaforge/envs/tile-stitcher/lib/python3.12/site-packages/geopandas/io/file.py:297\u001b[0m, in \u001b[0;36m_read_file\u001b[0;34m(filename, bbox, mask, rows, engine, **kwargs)\u001b[0m\n\u001b[1;32m    294\u001b[0m     \u001b[38;5;28;01melse\u001b[39;00m:\n\u001b[1;32m    295\u001b[0m         path_or_bytes \u001b[38;5;241m=\u001b[39m filename\n\u001b[0;32m--> 297\u001b[0m     \u001b[38;5;28;01mreturn\u001b[39;00m \u001b[43m_read_file_fiona\u001b[49m\u001b[43m(\u001b[49m\n\u001b[1;32m    298\u001b[0m \u001b[43m        \u001b[49m\u001b[43mpath_or_bytes\u001b[49m\u001b[43m,\u001b[49m\u001b[43m \u001b[49m\u001b[43mfrom_bytes\u001b[49m\u001b[43m,\u001b[49m\u001b[43m \u001b[49m\u001b[43mbbox\u001b[49m\u001b[38;5;241;43m=\u001b[39;49m\u001b[43mbbox\u001b[49m\u001b[43m,\u001b[49m\u001b[43m \u001b[49m\u001b[43mmask\u001b[49m\u001b[38;5;241;43m=\u001b[39;49m\u001b[43mmask\u001b[49m\u001b[43m,\u001b[49m\u001b[43m \u001b[49m\u001b[43mrows\u001b[49m\u001b[38;5;241;43m=\u001b[39;49m\u001b[43mrows\u001b[49m\u001b[43m,\u001b[49m\u001b[43m \u001b[49m\u001b[38;5;241;43m*\u001b[39;49m\u001b[38;5;241;43m*\u001b[39;49m\u001b[43mkwargs\u001b[49m\n\u001b[1;32m    299\u001b[0m \u001b[43m    \u001b[49m\u001b[43m)\u001b[49m\n\u001b[1;32m    301\u001b[0m \u001b[38;5;28;01melse\u001b[39;00m:\n\u001b[1;32m    302\u001b[0m     \u001b[38;5;28;01mraise\u001b[39;00m \u001b[38;5;167;01mValueError\u001b[39;00m(\u001b[38;5;124mf\u001b[39m\u001b[38;5;124m\"\u001b[39m\u001b[38;5;124munknown engine \u001b[39m\u001b[38;5;124m'\u001b[39m\u001b[38;5;132;01m{\u001b[39;00mengine\u001b[38;5;132;01m}\u001b[39;00m\u001b[38;5;124m'\u001b[39m\u001b[38;5;124m\"\u001b[39m)\n",
      "File \u001b[0;32m~/mambaforge/envs/tile-stitcher/lib/python3.12/site-packages/geopandas/io/file.py:338\u001b[0m, in \u001b[0;36m_read_file_fiona\u001b[0;34m(path_or_bytes, from_bytes, bbox, mask, rows, where, **kwargs)\u001b[0m\n\u001b[1;32m    335\u001b[0m     reader \u001b[38;5;241m=\u001b[39m fiona\u001b[38;5;241m.\u001b[39mopen\n\u001b[1;32m    337\u001b[0m \u001b[38;5;28;01mwith\u001b[39;00m fiona_env():\n\u001b[0;32m--> 338\u001b[0m     \u001b[38;5;28;01mwith\u001b[39;00m \u001b[43mreader\u001b[49m\u001b[43m(\u001b[49m\u001b[43mpath_or_bytes\u001b[49m\u001b[43m,\u001b[49m\u001b[43m \u001b[49m\u001b[38;5;241;43m*\u001b[39;49m\u001b[38;5;241;43m*\u001b[39;49m\u001b[43mkwargs\u001b[49m\u001b[43m)\u001b[49m \u001b[38;5;28;01mas\u001b[39;00m features:\n\u001b[1;32m    339\u001b[0m         crs \u001b[38;5;241m=\u001b[39m features\u001b[38;5;241m.\u001b[39mcrs_wkt\n\u001b[1;32m    340\u001b[0m         \u001b[38;5;66;03m# attempt to get EPSG code\u001b[39;00m\n",
      "File \u001b[0;32m~/mambaforge/envs/tile-stitcher/lib/python3.12/site-packages/fiona/env.py:457\u001b[0m, in \u001b[0;36mensure_env_with_credentials.<locals>.wrapper\u001b[0;34m(*args, **kwds)\u001b[0m\n\u001b[1;32m    454\u001b[0m     session \u001b[38;5;241m=\u001b[39m DummySession()\n\u001b[1;32m    456\u001b[0m \u001b[38;5;28;01mwith\u001b[39;00m env_ctor(session\u001b[38;5;241m=\u001b[39msession):\n\u001b[0;32m--> 457\u001b[0m     \u001b[38;5;28;01mreturn\u001b[39;00m \u001b[43mf\u001b[49m\u001b[43m(\u001b[49m\u001b[38;5;241;43m*\u001b[39;49m\u001b[43margs\u001b[49m\u001b[43m,\u001b[49m\u001b[43m \u001b[49m\u001b[38;5;241;43m*\u001b[39;49m\u001b[38;5;241;43m*\u001b[39;49m\u001b[43mkwds\u001b[49m\u001b[43m)\u001b[49m\n",
      "File \u001b[0;32m~/mambaforge/envs/tile-stitcher/lib/python3.12/site-packages/fiona/__init__.py:292\u001b[0m, in \u001b[0;36mopen\u001b[0;34m(fp, mode, driver, schema, crs, encoding, layer, vfs, enabled_drivers, crs_wkt, allow_unsupported_drivers, **kwargs)\u001b[0m\n\u001b[1;32m    289\u001b[0m     path \u001b[38;5;241m=\u001b[39m parse_path(fp)\n\u001b[1;32m    291\u001b[0m \u001b[38;5;28;01mif\u001b[39;00m mode \u001b[38;5;129;01min\u001b[39;00m (\u001b[38;5;124m\"\u001b[39m\u001b[38;5;124ma\u001b[39m\u001b[38;5;124m\"\u001b[39m, \u001b[38;5;124m\"\u001b[39m\u001b[38;5;124mr\u001b[39m\u001b[38;5;124m\"\u001b[39m):\n\u001b[0;32m--> 292\u001b[0m     colxn \u001b[38;5;241m=\u001b[39m \u001b[43mCollection\u001b[49m\u001b[43m(\u001b[49m\n\u001b[1;32m    293\u001b[0m \u001b[43m        \u001b[49m\u001b[43mpath\u001b[49m\u001b[43m,\u001b[49m\n\u001b[1;32m    294\u001b[0m \u001b[43m        \u001b[49m\u001b[43mmode\u001b[49m\u001b[43m,\u001b[49m\n\u001b[1;32m    295\u001b[0m \u001b[43m        \u001b[49m\u001b[43mdriver\u001b[49m\u001b[38;5;241;43m=\u001b[39;49m\u001b[43mdriver\u001b[49m\u001b[43m,\u001b[49m\n\u001b[1;32m    296\u001b[0m \u001b[43m        \u001b[49m\u001b[43mencoding\u001b[49m\u001b[38;5;241;43m=\u001b[39;49m\u001b[43mencoding\u001b[49m\u001b[43m,\u001b[49m\n\u001b[1;32m    297\u001b[0m \u001b[43m        \u001b[49m\u001b[43mlayer\u001b[49m\u001b[38;5;241;43m=\u001b[39;49m\u001b[43mlayer\u001b[49m\u001b[43m,\u001b[49m\n\u001b[1;32m    298\u001b[0m \u001b[43m        \u001b[49m\u001b[43menabled_drivers\u001b[49m\u001b[38;5;241;43m=\u001b[39;49m\u001b[43menabled_drivers\u001b[49m\u001b[43m,\u001b[49m\n\u001b[1;32m    299\u001b[0m \u001b[43m        \u001b[49m\u001b[43mallow_unsupported_drivers\u001b[49m\u001b[38;5;241;43m=\u001b[39;49m\u001b[43mallow_unsupported_drivers\u001b[49m\u001b[43m,\u001b[49m\n\u001b[1;32m    300\u001b[0m \u001b[43m        \u001b[49m\u001b[38;5;241;43m*\u001b[39;49m\u001b[38;5;241;43m*\u001b[39;49m\u001b[43mkwargs\u001b[49m\n\u001b[1;32m    301\u001b[0m \u001b[43m    \u001b[49m\u001b[43m)\u001b[49m\n\u001b[1;32m    302\u001b[0m \u001b[38;5;28;01melif\u001b[39;00m mode \u001b[38;5;241m==\u001b[39m \u001b[38;5;124m\"\u001b[39m\u001b[38;5;124mw\u001b[39m\u001b[38;5;124m\"\u001b[39m:\n\u001b[1;32m    303\u001b[0m     colxn \u001b[38;5;241m=\u001b[39m Collection(\n\u001b[1;32m    304\u001b[0m         path,\n\u001b[1;32m    305\u001b[0m         mode,\n\u001b[0;32m   (...)\u001b[0m\n\u001b[1;32m    314\u001b[0m         \u001b[38;5;241m*\u001b[39m\u001b[38;5;241m*\u001b[39mkwargs\n\u001b[1;32m    315\u001b[0m     )\n",
      "File \u001b[0;32m~/mambaforge/envs/tile-stitcher/lib/python3.12/site-packages/fiona/collection.py:243\u001b[0m, in \u001b[0;36mCollection.__init__\u001b[0;34m(self, path, mode, driver, schema, crs, encoding, layer, vsi, archive, enabled_drivers, crs_wkt, ignore_fields, ignore_geometry, include_fields, wkt_version, allow_unsupported_drivers, **kwargs)\u001b[0m\n\u001b[1;32m    241\u001b[0m \u001b[38;5;28;01mif\u001b[39;00m \u001b[38;5;28mself\u001b[39m\u001b[38;5;241m.\u001b[39mmode \u001b[38;5;241m==\u001b[39m \u001b[38;5;124m\"\u001b[39m\u001b[38;5;124mr\u001b[39m\u001b[38;5;124m\"\u001b[39m:\n\u001b[1;32m    242\u001b[0m     \u001b[38;5;28mself\u001b[39m\u001b[38;5;241m.\u001b[39msession \u001b[38;5;241m=\u001b[39m Session()\n\u001b[0;32m--> 243\u001b[0m     \u001b[38;5;28;43mself\u001b[39;49m\u001b[38;5;241;43m.\u001b[39;49m\u001b[43msession\u001b[49m\u001b[38;5;241;43m.\u001b[39;49m\u001b[43mstart\u001b[49m\u001b[43m(\u001b[49m\u001b[38;5;28;43mself\u001b[39;49m\u001b[43m,\u001b[49m\u001b[43m \u001b[49m\u001b[38;5;241;43m*\u001b[39;49m\u001b[38;5;241;43m*\u001b[39;49m\u001b[43mkwargs\u001b[49m\u001b[43m)\u001b[49m\n\u001b[1;32m    244\u001b[0m \u001b[38;5;28;01melif\u001b[39;00m \u001b[38;5;28mself\u001b[39m\u001b[38;5;241m.\u001b[39mmode \u001b[38;5;129;01min\u001b[39;00m (\u001b[38;5;124m\"\u001b[39m\u001b[38;5;124ma\u001b[39m\u001b[38;5;124m\"\u001b[39m, \u001b[38;5;124m\"\u001b[39m\u001b[38;5;124mw\u001b[39m\u001b[38;5;124m\"\u001b[39m):\n\u001b[1;32m    245\u001b[0m     \u001b[38;5;28mself\u001b[39m\u001b[38;5;241m.\u001b[39msession \u001b[38;5;241m=\u001b[39m WritingSession()\n",
      "File \u001b[0;32mfiona/ogrext.pyx:588\u001b[0m, in \u001b[0;36mfiona.ogrext.Session.start\u001b[0;34m()\u001b[0m\n",
      "File \u001b[0;32mfiona/ogrext.pyx:143\u001b[0m, in \u001b[0;36mfiona.ogrext.gdal_open_vector\u001b[0;34m()\u001b[0m\n",
      "\u001b[0;31mDriverError\u001b[0m: '/vsizip//Users/cmarshak/bekaert-team/tile-stitcher/tile_stitcher/data/esa_world_cover_2021.geojson.zip' does not exist in the file system, and is not recognized as a supported dataset name."
     ]
    }
   ],
   "source": [
    "df = gpd.read_file(p1)"
   ]
  },
  {
   "cell_type": "code",
   "execution_count": 37,
   "id": "15e14c85-c5e6-41e1-8425-36ab434db2e3",
   "metadata": {},
   "outputs": [
    {
     "data": {
      "text/plain": [
       "'/Users/cmarshak/bekaert-team/tile-stitcher/tile_stitcher/data/esa_world_cover_2020.geojson.zip'"
      ]
     },
     "execution_count": 37,
     "metadata": {},
     "output_type": "execute_result"
    }
   ],
   "source": [
    "to_geojson_gzip(df_wc_tiles_2021, str(DATA_DIR / 'esa_world_cover_2021.geojson.zip'))\n",
    "to_geojson_gzip(df_wc_tiles_2020, str(DATA_DIR / 'esa_world_cover_2020.geojson.zip'))"
   ]
  },
  {
   "cell_type": "code",
   "execution_count": null,
   "id": "90486734-875b-41de-89ac-3c81e92bad58",
   "metadata": {},
   "outputs": [],
   "source": [
    "shutil.make_archive(localFile, 'zip', temp_dir)"
   ]
  }
 ],
 "metadata": {
  "kernelspec": {
   "display_name": "tile-stitcher",
   "language": "python",
   "name": "tile-stitcher"
  },
  "language_info": {
   "codemirror_mode": {
    "name": "ipython",
    "version": 3
   },
   "file_extension": ".py",
   "mimetype": "text/x-python",
   "name": "python",
   "nbconvert_exporter": "python",
   "pygments_lexer": "ipython3",
   "version": "3.12.0"
  }
 },
 "nbformat": 4,
 "nbformat_minor": 5
}
