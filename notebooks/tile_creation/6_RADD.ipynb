{
 "cells": [
  {
   "cell_type": "code",
   "execution_count": 1,
   "id": "1e2d311e-1c23-419f-82f2-e1074c99ef7a",
   "metadata": {},
   "outputs": [],
   "source": [
    "import geopandas as gpd\n",
    "from tile_mate.tile_model import TILE_SCHEMA\n",
    "from tile_mate.stitcher import DATA_DIR\n",
    "from dem_stitcher.geojson_io import to_geojson_gzip\n",
    "import requests"
   ]
  },
  {
   "cell_type": "markdown",
   "id": "3d7d1196-2f51-4659-b3dd-c034e3663ecf",
   "metadata": {},
   "source": [
    "Source: https://data.globalforestwatch.org/datasets/gfw::deforestation-alerts-radd/about"
   ]
  },
  {
   "cell_type": "code",
   "execution_count": 2,
   "id": "ad3c4086-39b6-4d52-8cc2-0f944ff43d59",
   "metadata": {},
   "outputs": [],
   "source": [
    "url = 'https://opendata.arcgis.com/api/v3/datasets/d10aed6037844b86bab85d42bb27954a_0/downloads/data?format=geojson&spatialRefId=4326&where=1%3D1'\n",
    "resp = requests.get(url)"
   ]
  },
  {
   "cell_type": "code",
   "execution_count": 3,
   "id": "b88e512c-2351-4f18-adee-62dd9229acd4",
   "metadata": {},
   "outputs": [
    {
     "data": {
      "text/html": [
       "<div>\n",
       "<style scoped>\n",
       "    .dataframe tbody tr th:only-of-type {\n",
       "        vertical-align: middle;\n",
       "    }\n",
       "\n",
       "    .dataframe tbody tr th {\n",
       "        vertical-align: top;\n",
       "    }\n",
       "\n",
       "    .dataframe thead th {\n",
       "        text-align: right;\n",
       "    }\n",
       "</style>\n",
       "<table border=\"1\" class=\"dataframe\">\n",
       "  <thead>\n",
       "    <tr style=\"text-align: right;\">\n",
       "      <th></th>\n",
       "      <th>geometry</th>\n",
       "      <th>tile_id</th>\n",
       "      <th>download</th>\n",
       "      <th>ObjectId</th>\n",
       "      <th>Shape__Area</th>\n",
       "      <th>Shape__Length</th>\n",
       "    </tr>\n",
       "  </thead>\n",
       "  <tbody>\n",
       "    <tr>\n",
       "      <th>0</th>\n",
       "      <td>POLYGON ((0.00000 0.00000, 10.00000 0.00000, 1...</td>\n",
       "      <td>00N_000E</td>\n",
       "      <td>https://data-api.globalforestwatch.org/dataset...</td>\n",
       "      <td>1</td>\n",
       "      <td>1.245543e+12</td>\n",
       "      <td>4.464170e+06</td>\n",
       "    </tr>\n",
       "    <tr>\n",
       "      <th>1</th>\n",
       "      <td>POLYGON ((10.00000 0.00000, 20.00000 0.00000, ...</td>\n",
       "      <td>00N_010E</td>\n",
       "      <td>https://data-api.globalforestwatch.org/dataset...</td>\n",
       "      <td>2</td>\n",
       "      <td>1.245543e+12</td>\n",
       "      <td>4.464170e+06</td>\n",
       "    </tr>\n",
       "    <tr>\n",
       "      <th>2</th>\n",
       "      <td>POLYGON ((20.00000 0.00000, 30.00000 0.00000, ...</td>\n",
       "      <td>00N_020E</td>\n",
       "      <td>https://data-api.globalforestwatch.org/dataset...</td>\n",
       "      <td>3</td>\n",
       "      <td>1.245543e+12</td>\n",
       "      <td>4.464170e+06</td>\n",
       "    </tr>\n",
       "    <tr>\n",
       "      <th>3</th>\n",
       "      <td>POLYGON ((30.00000 0.00000, 40.00000 0.00000, ...</td>\n",
       "      <td>00N_030E</td>\n",
       "      <td>https://data-api.globalforestwatch.org/dataset...</td>\n",
       "      <td>4</td>\n",
       "      <td>1.245543e+12</td>\n",
       "      <td>4.464170e+06</td>\n",
       "    </tr>\n",
       "    <tr>\n",
       "      <th>4</th>\n",
       "      <td>POLYGON ((40.00000 0.00000, 50.00000 0.00000, ...</td>\n",
       "      <td>00N_040E</td>\n",
       "      <td>https://data-api.globalforestwatch.org/dataset...</td>\n",
       "      <td>5</td>\n",
       "      <td>1.245543e+12</td>\n",
       "      <td>4.464170e+06</td>\n",
       "    </tr>\n",
       "  </tbody>\n",
       "</table>\n",
       "</div>"
      ],
      "text/plain": [
       "                                            geometry   tile_id  \\\n",
       "0  POLYGON ((0.00000 0.00000, 10.00000 0.00000, 1...  00N_000E   \n",
       "1  POLYGON ((10.00000 0.00000, 20.00000 0.00000, ...  00N_010E   \n",
       "2  POLYGON ((20.00000 0.00000, 30.00000 0.00000, ...  00N_020E   \n",
       "3  POLYGON ((30.00000 0.00000, 40.00000 0.00000, ...  00N_030E   \n",
       "4  POLYGON ((40.00000 0.00000, 50.00000 0.00000, ...  00N_040E   \n",
       "\n",
       "                                            download  ObjectId   Shape__Area  \\\n",
       "0  https://data-api.globalforestwatch.org/dataset...         1  1.245543e+12   \n",
       "1  https://data-api.globalforestwatch.org/dataset...         2  1.245543e+12   \n",
       "2  https://data-api.globalforestwatch.org/dataset...         3  1.245543e+12   \n",
       "3  https://data-api.globalforestwatch.org/dataset...         4  1.245543e+12   \n",
       "4  https://data-api.globalforestwatch.org/dataset...         5  1.245543e+12   \n",
       "\n",
       "   Shape__Length  \n",
       "0   4.464170e+06  \n",
       "1   4.464170e+06  \n",
       "2   4.464170e+06  \n",
       "3   4.464170e+06  \n",
       "4   4.464170e+06  "
      ]
     },
     "execution_count": 3,
     "metadata": {},
     "output_type": "execute_result"
    }
   ],
   "source": [
    "df = gpd.GeoDataFrame.from_features(resp.json())\n",
    "df.head()"
   ]
  },
  {
   "cell_type": "code",
   "execution_count": 4,
   "id": "b956f1fa-dc17-429d-b15c-9e765f09fbf3",
   "metadata": {},
   "outputs": [
    {
     "data": {
      "text/html": [
       "<div>\n",
       "<style scoped>\n",
       "    .dataframe tbody tr th:only-of-type {\n",
       "        vertical-align: middle;\n",
       "    }\n",
       "\n",
       "    .dataframe tbody tr th {\n",
       "        vertical-align: top;\n",
       "    }\n",
       "\n",
       "    .dataframe thead th {\n",
       "        text-align: right;\n",
       "    }\n",
       "</style>\n",
       "<table border=\"1\" class=\"dataframe\">\n",
       "  <thead>\n",
       "    <tr style=\"text-align: right;\">\n",
       "      <th></th>\n",
       "      <th>tile_id</th>\n",
       "      <th>url</th>\n",
       "      <th>geometry</th>\n",
       "    </tr>\n",
       "  </thead>\n",
       "  <tbody>\n",
       "    <tr>\n",
       "      <th>0</th>\n",
       "      <td>00N_000E</td>\n",
       "      <td>https://data-api.globalforestwatch.org/dataset...</td>\n",
       "      <td>POLYGON ((0.00000 0.00000, 10.00000 0.00000, 1...</td>\n",
       "    </tr>\n",
       "    <tr>\n",
       "      <th>1</th>\n",
       "      <td>00N_010E</td>\n",
       "      <td>https://data-api.globalforestwatch.org/dataset...</td>\n",
       "      <td>POLYGON ((10.00000 0.00000, 20.00000 0.00000, ...</td>\n",
       "    </tr>\n",
       "    <tr>\n",
       "      <th>2</th>\n",
       "      <td>00N_020E</td>\n",
       "      <td>https://data-api.globalforestwatch.org/dataset...</td>\n",
       "      <td>POLYGON ((20.00000 0.00000, 30.00000 0.00000, ...</td>\n",
       "    </tr>\n",
       "    <tr>\n",
       "      <th>3</th>\n",
       "      <td>00N_030E</td>\n",
       "      <td>https://data-api.globalforestwatch.org/dataset...</td>\n",
       "      <td>POLYGON ((30.00000 0.00000, 40.00000 0.00000, ...</td>\n",
       "    </tr>\n",
       "    <tr>\n",
       "      <th>4</th>\n",
       "      <td>00N_040E</td>\n",
       "      <td>https://data-api.globalforestwatch.org/dataset...</td>\n",
       "      <td>POLYGON ((40.00000 0.00000, 50.00000 0.00000, ...</td>\n",
       "    </tr>\n",
       "  </tbody>\n",
       "</table>\n",
       "</div>"
      ],
      "text/plain": [
       "    tile_id                                                url  \\\n",
       "0  00N_000E  https://data-api.globalforestwatch.org/dataset...   \n",
       "1  00N_010E  https://data-api.globalforestwatch.org/dataset...   \n",
       "2  00N_020E  https://data-api.globalforestwatch.org/dataset...   \n",
       "3  00N_030E  https://data-api.globalforestwatch.org/dataset...   \n",
       "4  00N_040E  https://data-api.globalforestwatch.org/dataset...   \n",
       "\n",
       "                                            geometry  \n",
       "0  POLYGON ((0.00000 0.00000, 10.00000 0.00000, 1...  \n",
       "1  POLYGON ((10.00000 0.00000, 20.00000 0.00000, ...  \n",
       "2  POLYGON ((20.00000 0.00000, 30.00000 0.00000, ...  \n",
       "3  POLYGON ((30.00000 0.00000, 40.00000 0.00000, ...  \n",
       "4  POLYGON ((40.00000 0.00000, 50.00000 0.00000, ...  "
      ]
     },
     "execution_count": 4,
     "metadata": {},
     "output_type": "execute_result"
    }
   ],
   "source": [
    "df_formatted = df[['tile_id', 'download', 'geometry']].copy()\n",
    "df_formatted = df_formatted.rename(columns={'download': 'url'})\n",
    "df_formatted.head()"
   ]
  },
  {
   "cell_type": "code",
   "execution_count": 5,
   "id": "5c03447e-c6cc-401e-b25e-d3a5338dc79c",
   "metadata": {},
   "outputs": [],
   "source": [
    "df_radd = TILE_SCHEMA.validate(df_formatted)"
   ]
  },
  {
   "cell_type": "code",
   "execution_count": 6,
   "id": "69047a72-cd48-4308-b09c-f1a34517e656",
   "metadata": {},
   "outputs": [
    {
     "data": {
      "text/plain": [
       "'/Users/cmarshak/bekaert-team/tile-mate/src/tile_mate/data/radd_deforestation_alerts_2022.geojson.zip'"
      ]
     },
     "execution_count": 6,
     "metadata": {},
     "output_type": "execute_result"
    }
   ],
   "source": [
    "to_geojson_gzip(df_radd, str(DATA_DIR / 'radd_deforestation_alerts_2022.geojson.zip'))"
   ]
  }
 ],
 "metadata": {
  "kernelspec": {
   "display_name": "tile-mate",
   "language": "python",
   "name": "tile-mate"
  },
  "language_info": {
   "codemirror_mode": {
    "name": "ipython",
    "version": 3
   },
   "file_extension": ".py",
   "mimetype": "text/x-python",
   "name": "python",
   "nbconvert_exporter": "python",
   "pygments_lexer": "ipython3",
   "version": "3.12.1"
  }
 },
 "nbformat": 4,
 "nbformat_minor": 5
}
