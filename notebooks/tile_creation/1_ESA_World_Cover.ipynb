{
 "cells": [
  {
   "cell_type": "markdown",
   "id": "41cf0314-b8d8-4b2c-8bd5-82f692a2174d",
   "metadata": {},
   "source": [
    "Source: https://esa-worldcover.org/en/data-access (see AWS section). Wasn't able to find grid for 2021 so copied the grid from 2020 and made necessary adjustments.\n",
    "\n",
    "Must have `tile-mate` installed in editable mode. Also, uses `dem_stitcher` for serialization (available via conda-forge)"
   ]
  },
  {
   "cell_type": "code",
   "execution_count": 1,
   "id": "e23fe4d5-f83c-4a1b-b09e-39c93c68926c",
   "metadata": {},
   "outputs": [],
   "source": [
    "import geopandas as gpd\n",
    "from tile_mate.tile_model import TILE_SCHEMA\n",
    "from tile_mate.stitcher import DATA_DIR\n",
    "import pandera as pa\n",
    "from dem_stitcher.geojson_io import to_geojson_gzip"
   ]
  },
  {
   "cell_type": "code",
   "execution_count": 2,
   "id": "afb7938d-bc85-45da-a096-746323cf086e",
   "metadata": {},
   "outputs": [],
   "source": [
    "s3_url_prefix = \"https://esa-worldcover.s3.eu-central-1.amazonaws.com\"\n",
    "\n",
    "# load worldcover grid\n",
    "url_2020 = f'{s3_url_prefix}/v100/2020/esa_worldcover_2020_grid.geojson'\n",
    "df_wc_tiles_2020_src = gpd.read_file(url_2020)"
   ]
  },
  {
   "cell_type": "code",
   "execution_count": 3,
   "id": "aac8094a-4f4a-4be6-bb30-944e33a0a4a9",
   "metadata": {},
   "outputs": [
    {
     "data": {
      "text/html": [
       "<div>\n",
       "<style scoped>\n",
       "    .dataframe tbody tr th:only-of-type {\n",
       "        vertical-align: middle;\n",
       "    }\n",
       "\n",
       "    .dataframe tbody tr th {\n",
       "        vertical-align: top;\n",
       "    }\n",
       "\n",
       "    .dataframe thead th {\n",
       "        text-align: right;\n",
       "    }\n",
       "</style>\n",
       "<table border=\"1\" class=\"dataframe\">\n",
       "  <thead>\n",
       "    <tr style=\"text-align: right;\">\n",
       "      <th></th>\n",
       "      <th>tile_id</th>\n",
       "      <th>url</th>\n",
       "      <th>geometry</th>\n",
       "    </tr>\n",
       "  </thead>\n",
       "  <tbody>\n",
       "    <tr>\n",
       "      <th>0</th>\n",
       "      <td>S54E168</td>\n",
       "      <td>https://esa-worldcover.s3.eu-central-1.amazona...</td>\n",
       "      <td>POLYGON ((168.80786 -52.75980, 168.79761 -52.7...</td>\n",
       "    </tr>\n",
       "    <tr>\n",
       "      <th>1</th>\n",
       "      <td>S54E165</td>\n",
       "      <td>https://esa-worldcover.s3.eu-central-1.amazona...</td>\n",
       "      <td>POLYGON ((166.50177 -51.00000, 166.46563 -51.0...</td>\n",
       "    </tr>\n",
       "    <tr>\n",
       "      <th>2</th>\n",
       "      <td>S57E159</td>\n",
       "      <td>https://esa-worldcover.s3.eu-central-1.amazona...</td>\n",
       "      <td>POLYGON ((159.00000 -54.17474, 159.05881 -54.1...</td>\n",
       "    </tr>\n",
       "    <tr>\n",
       "      <th>3</th>\n",
       "      <td>S57E156</td>\n",
       "      <td>https://esa-worldcover.s3.eu-central-1.amazona...</td>\n",
       "      <td>POLYGON ((159.00000 -55.01738, 158.96296 -55.0...</td>\n",
       "    </tr>\n",
       "    <tr>\n",
       "      <th>4</th>\n",
       "      <td>S45E144</td>\n",
       "      <td>https://esa-worldcover.s3.eu-central-1.amazona...</td>\n",
       "      <td>POLYGON ((147.00000 -42.00000, 147.00000 -43.9...</td>\n",
       "    </tr>\n",
       "  </tbody>\n",
       "</table>\n",
       "</div>"
      ],
      "text/plain": [
       "   tile_id                                                url  \\\n",
       "0  S54E168  https://esa-worldcover.s3.eu-central-1.amazona...   \n",
       "1  S54E165  https://esa-worldcover.s3.eu-central-1.amazona...   \n",
       "2  S57E159  https://esa-worldcover.s3.eu-central-1.amazona...   \n",
       "3  S57E156  https://esa-worldcover.s3.eu-central-1.amazona...   \n",
       "4  S45E144  https://esa-worldcover.s3.eu-central-1.amazona...   \n",
       "\n",
       "                                            geometry  \n",
       "0  POLYGON ((168.80786 -52.75980, 168.79761 -52.7...  \n",
       "1  POLYGON ((166.50177 -51.00000, 166.46563 -51.0...  \n",
       "2  POLYGON ((159.00000 -54.17474, 159.05881 -54.1...  \n",
       "3  POLYGON ((159.00000 -55.01738, 158.96296 -55.0...  \n",
       "4  POLYGON ((147.00000 -42.00000, 147.00000 -43.9...  "
      ]
     },
     "execution_count": 3,
     "metadata": {},
     "output_type": "execute_result"
    }
   ],
   "source": [
    "def url_gen(tile_id):\n",
    "    url = f\"{s3_url_prefix}/v100/2020/map/ESA_WorldCover_10m_2020_v100_{tile_id}_Map.tif\"\n",
    "    return url\n",
    "\n",
    "df_wc_tiles_2020 = df_wc_tiles_2020_src.copy()\n",
    "df_wc_tiles_2020['url'] = df_wc_tiles_2020.ll_tile.map(url_gen)\n",
    "df_wc_tiles_2020.rename(columns={'ll_tile': 'tile_id'}, inplace=True)\n",
    "df_wc_tiles_2020 = df_wc_tiles_2020[['tile_id', 'url', 'geometry']]\n",
    "df_wc_tiles_2020.head()"
   ]
  },
  {
   "cell_type": "code",
   "execution_count": 4,
   "id": "e65cf21c-3e5d-4208-ae0d-447e3cd85307",
   "metadata": {},
   "outputs": [],
   "source": [
    "df_wc_tiles_2020 = TILE_SCHEMA.validate(df_wc_tiles_2020)"
   ]
  },
  {
   "cell_type": "code",
   "execution_count": 5,
   "id": "3ecd8123-1ddc-4c12-b9a4-9da952b7c5bb",
   "metadata": {},
   "outputs": [
    {
     "data": {
      "text/plain": [
       "'https://esa-worldcover.s3.eu-central-1.amazonaws.com/v100/2020/map/ESA_WorldCover_10m_2020_v100_S54E168_Map.tif'"
      ]
     },
     "execution_count": 5,
     "metadata": {},
     "output_type": "execute_result"
    }
   ],
   "source": [
    "df_wc_tiles_2020.url[0]"
   ]
  },
  {
   "cell_type": "code",
   "execution_count": 6,
   "id": "46081de9-0a03-4be7-b8b1-64e3608ab115",
   "metadata": {},
   "outputs": [
    {
     "data": {
      "text/plain": [
       "'https://esa-worldcover.s3.eu-central-1.amazonaws.com/v200/2021/map/ESA_WorldCover_10m_2021_v200_S54E168_Map.tif'"
      ]
     },
     "execution_count": 6,
     "metadata": {},
     "output_type": "execute_result"
    }
   ],
   "source": [
    "df_wc_tiles_2021 = df_wc_tiles_2020.copy()\n",
    "df_wc_tiles_2021['url'] = df_wc_tiles_2021.url.map(lambda url: url.replace('v100', 'v200').replace('2020', '2021'))\n",
    "df_wc_tiles_2021.url[0]"
   ]
  },
  {
   "cell_type": "markdown",
   "id": "49c91c85-f4cc-4409-8e7e-da322c09dc2c",
   "metadata": {},
   "source": [
    "# Serialize"
   ]
  },
  {
   "cell_type": "code",
   "execution_count": 37,
   "id": "15e14c85-c5e6-41e1-8425-36ab434db2e3",
   "metadata": {},
   "outputs": [
    {
     "data": {
      "text/plain": [
       "'/Users/cmarshak/bekaert-team/tile-mate/tile_mate/data/esa_world_cover_2020.geojson.zip'"
      ]
     },
     "execution_count": 37,
     "metadata": {},
     "output_type": "execute_result"
    }
   ],
   "source": [
    "to_geojson_gzip(df_wc_tiles_2021, str(DATA_DIR / 'esa_world_cover_2021.geojson.zip'))\n",
    "to_geojson_gzip(df_wc_tiles_2020, str(DATA_DIR / 'esa_world_cover_2020.geojson.zip'))"
   ]
  }
 ],
 "metadata": {
  "kernelspec": {
   "display_name": "tile-mate",
   "language": "python",
   "name": "tile-mate"
  },
  "language_info": {
   "codemirror_mode": {
    "name": "ipython",
    "version": 3
   },
   "file_extension": ".py",
   "mimetype": "text/x-python",
   "name": "python",
   "nbconvert_exporter": "python",
   "pygments_lexer": "ipython3",
   "version": "3.12.0"
  }
 },
 "nbformat": 4,
 "nbformat_minor": 5
}
